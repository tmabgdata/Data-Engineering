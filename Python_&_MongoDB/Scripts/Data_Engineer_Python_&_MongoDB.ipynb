{
  "nbformat": 4,
  "nbformat_minor": 0,
  "metadata": {
    "colab": {
      "provenance": []
    },
    "kernelspec": {
      "name": "python3",
      "display_name": "Python 3"
    },
    "language_info": {
      "name": "python"
    }
  },
  "cells": [
    {
      "cell_type": "markdown",
      "source": [
        "# Step 1: Install the mongomock library and Pymongo"
      ],
      "metadata": {
        "id": "vanm1VW26_1q"
      }
    },
    {
      "cell_type": "code",
      "source": [
        "!pip install mongomock\n",
        "!pip install pymongo"
      ],
      "metadata": {
        "id": "hxfoQ9_17Aoa"
      },
      "execution_count": null,
      "outputs": []
    },
    {
      "cell_type": "markdown",
      "source": [
        "# Step 2: Import the required libraries and create a simulated MongoDB environment"
      ],
      "metadata": {
        "id": "foi2cKS07FAk"
      }
    },
    {
      "cell_type": "code",
      "source": [
        "import mongomock\n",
        "import pymongo"
      ],
      "metadata": {
        "id": "uSlA98Pt7CVt"
      },
      "execution_count": 17,
      "outputs": []
    },
    {
      "cell_type": "markdown",
      "source": [
        "# Create a simulated MongoDB client and database\n"
      ],
      "metadata": {
        "id": "AC0yTMPv7JaJ"
      }
    },
    {
      "cell_type": "code",
      "source": [
        "simulated_client = mongomock.MongoClient()\n",
        "simulated_db = simulated_client[\"mydatabase\"]\n",
        "simulated_collection = simulated_db[\"mycollection\"]"
      ],
      "metadata": {
        "id": "tN6TPaoj7Htj"
      },
      "execution_count": 4,
      "outputs": []
    },
    {
      "cell_type": "markdown",
      "source": [
        "# Step 3: Insert sample data into the simulated collection"
      ],
      "metadata": {
        "id": "pDyoMoaO7Qix"
      }
    },
    {
      "cell_type": "code",
      "source": [
        "data = [\n",
        "    {\"name\": \"Alice Johnson\", \"age\": 25, \"city\": \"Los Angeles\"},\n",
        "    {\"name\": \"Bob Smith\", \"age\": 32, \"city\": \"Chicago\"},\n",
        "    {\"name\": \"Emily Brown\", \"age\": 28, \"city\": \"San Francisco\"},\n",
        "    {\"name\": \"David Wilson\", \"age\": 40, \"city\": \"Houston\"},\n",
        "    {\"name\": \"Sophia Lee\", \"age\": 22, \"city\": \"New York\"},\n",
        "    {\"name\": \"James Davis\", \"age\": 35, \"city\": \"Boston\"},\n",
        "    {\"name\": \"Olivia Miller\", \"age\": 29, \"city\": \"Seattle\"},\n",
        "    {\"name\": \"Daniel Anderson\", \"age\": 28, \"city\": \"Miami\"},\n",
        "    {\"name\": \"Ava Martinez\", \"age\": 27, \"city\": \"Phoenix\"},\n",
        "    {\"name\": \"Michael Taylor\", \"age\": 31, \"city\": \"Denver\"},\n",
        "    {\"name\": \"Emma Thomas\", \"age\": 24, \"city\": \"Atlanta\"},\n",
        "    {\"name\": \"William Hernandez\", \"age\": 26, \"city\": \"Dallas\"},\n",
        "    {\"name\": \"Liam Wilson\", \"age\": 30, \"city\": \"San Diego\"},\n",
        "    {\"name\": \"Isabella Lewis\", \"age\": 33, \"city\": \"Portland\"},\n",
        "    {\"name\": \"Ethan Turner\", \"age\": 23, \"city\": \"Las Vegas\"},\n",
        "    {\"name\": \"Mia Walker\", \"age\": 28, \"city\": \"Philadelphia\"},\n",
        "    {\"name\": \"Alexander Hill\", \"age\": 29, \"city\": \"Detroit\"},\n",
        "    {\"name\": \"Abigail Adams\", \"age\": 27, \"city\": \"Minneapolis\"},\n",
        "    {\"name\": \"Daniel Martin\", \"age\": 34, \"city\": \"Orlando\"},\n",
        "    {\"name\": \"Sofia Nelson\", \"age\": 25, \"city\": \"Austin\"}\n",
        "]"
      ],
      "metadata": {
        "id": "QooDg8qE7Nec"
      },
      "execution_count": 5,
      "outputs": []
    },
    {
      "cell_type": "code",
      "source": [
        "# Insert the documents into the simulated collection\n",
        "for doc in data:\n",
        "    simulated_collection.insert_one(doc)"
      ],
      "metadata": {
        "id": "OVP25wTq7ZOs"
      },
      "execution_count": 6,
      "outputs": []
    },
    {
      "cell_type": "code",
      "source": [
        "print(\"Documents inserted:\", len(data))\n"
      ],
      "metadata": {
        "colab": {
          "base_uri": "https://localhost:8080/"
        },
        "id": "dJ9FJZ6x7ZqU",
        "outputId": "391f70df-73d2-4881-ccf6-fea2aa46e10e"
      },
      "execution_count": 7,
      "outputs": [
        {
          "output_type": "stream",
          "name": "stdout",
          "text": [
            "Documents inserted: 20\n"
          ]
        }
      ]
    },
    {
      "cell_type": "markdown",
      "source": [
        "# Step 4: Perform MongoDB-like queries and operations in the simulated environment\n"
      ],
      "metadata": {
        "id": "tlCHtA2m7g4z"
      }
    },
    {
      "cell_type": "code",
      "source": [
        "# Basic query: Find all documents in the collection\n",
        "result = simulated_collection.find()\n",
        "for doc in result:\n",
        "    print(doc)"
      ],
      "metadata": {
        "colab": {
          "base_uri": "https://localhost:8080/"
        },
        "id": "ScYBF4P27hkc",
        "outputId": "a46a6ff5-48fa-4a12-d924-8b27c4d7fcba"
      },
      "execution_count": 8,
      "outputs": [
        {
          "output_type": "stream",
          "name": "stdout",
          "text": [
            "{'name': 'Alice Johnson', 'age': 25, 'city': 'Los Angeles', '_id': ObjectId('64dbe2ba3c9edcf42ad4c74a')}\n",
            "{'name': 'Bob Smith', 'age': 32, 'city': 'Chicago', '_id': ObjectId('64dbe2ba3c9edcf42ad4c74b')}\n",
            "{'name': 'Emily Brown', 'age': 28, 'city': 'San Francisco', '_id': ObjectId('64dbe2ba3c9edcf42ad4c74c')}\n",
            "{'name': 'David Wilson', 'age': 40, 'city': 'Houston', '_id': ObjectId('64dbe2ba3c9edcf42ad4c74d')}\n",
            "{'name': 'Sophia Lee', 'age': 22, 'city': 'New York', '_id': ObjectId('64dbe2ba3c9edcf42ad4c74e')}\n",
            "{'name': 'James Davis', 'age': 35, 'city': 'Boston', '_id': ObjectId('64dbe2ba3c9edcf42ad4c74f')}\n",
            "{'name': 'Olivia Miller', 'age': 29, 'city': 'Seattle', '_id': ObjectId('64dbe2ba3c9edcf42ad4c750')}\n",
            "{'name': 'Daniel Anderson', 'age': 28, 'city': 'Miami', '_id': ObjectId('64dbe2ba3c9edcf42ad4c751')}\n",
            "{'name': 'Ava Martinez', 'age': 27, 'city': 'Phoenix', '_id': ObjectId('64dbe2ba3c9edcf42ad4c752')}\n",
            "{'name': 'Michael Taylor', 'age': 31, 'city': 'Denver', '_id': ObjectId('64dbe2ba3c9edcf42ad4c753')}\n",
            "{'name': 'Emma Thomas', 'age': 24, 'city': 'Atlanta', '_id': ObjectId('64dbe2ba3c9edcf42ad4c754')}\n",
            "{'name': 'William Hernandez', 'age': 26, 'city': 'Dallas', '_id': ObjectId('64dbe2ba3c9edcf42ad4c755')}\n",
            "{'name': 'Liam Wilson', 'age': 30, 'city': 'San Diego', '_id': ObjectId('64dbe2ba3c9edcf42ad4c756')}\n",
            "{'name': 'Isabella Lewis', 'age': 33, 'city': 'Portland', '_id': ObjectId('64dbe2ba3c9edcf42ad4c757')}\n",
            "{'name': 'Ethan Turner', 'age': 23, 'city': 'Las Vegas', '_id': ObjectId('64dbe2ba3c9edcf42ad4c758')}\n",
            "{'name': 'Mia Walker', 'age': 28, 'city': 'Philadelphia', '_id': ObjectId('64dbe2ba3c9edcf42ad4c759')}\n",
            "{'name': 'Alexander Hill', 'age': 29, 'city': 'Detroit', '_id': ObjectId('64dbe2ba3c9edcf42ad4c75a')}\n",
            "{'name': 'Abigail Adams', 'age': 27, 'city': 'Minneapolis', '_id': ObjectId('64dbe2ba3c9edcf42ad4c75b')}\n",
            "{'name': 'Daniel Martin', 'age': 34, 'city': 'Orlando', '_id': ObjectId('64dbe2ba3c9edcf42ad4c75c')}\n",
            "{'name': 'Sofia Nelson', 'age': 25, 'city': 'Austin', '_id': ObjectId('64dbe2ba3c9edcf42ad4c75d')}\n"
          ]
        }
      ]
    },
    {
      "cell_type": "code",
      "source": [
        "# Query with criteria: Find documents where age is greater than 30\n",
        "query = {\"age\": {\"$gt\": 30}}\n",
        "result = simulated_collection.find(query)\n",
        "for doc in result:\n",
        "    print(doc)"
      ],
      "metadata": {
        "colab": {
          "base_uri": "https://localhost:8080/"
        },
        "id": "zjdwexGX7l19",
        "outputId": "dfb34544-b0f9-4ef0-a5a6-5bd627a6c0ac"
      },
      "execution_count": 9,
      "outputs": [
        {
          "output_type": "stream",
          "name": "stdout",
          "text": [
            "{'name': 'Bob Smith', 'age': 32, 'city': 'Chicago', '_id': ObjectId('64dbe2ba3c9edcf42ad4c74b')}\n",
            "{'name': 'David Wilson', 'age': 40, 'city': 'Houston', '_id': ObjectId('64dbe2ba3c9edcf42ad4c74d')}\n",
            "{'name': 'James Davis', 'age': 35, 'city': 'Boston', '_id': ObjectId('64dbe2ba3c9edcf42ad4c74f')}\n",
            "{'name': 'Michael Taylor', 'age': 31, 'city': 'Denver', '_id': ObjectId('64dbe2ba3c9edcf42ad4c753')}\n",
            "{'name': 'Isabella Lewis', 'age': 33, 'city': 'Portland', '_id': ObjectId('64dbe2ba3c9edcf42ad4c757')}\n",
            "{'name': 'Daniel Martin', 'age': 34, 'city': 'Orlando', '_id': ObjectId('64dbe2ba3c9edcf42ad4c75c')}\n"
          ]
        }
      ]
    },
    {
      "cell_type": "code",
      "source": [
        "# Find documents where age is between 25 and 30\n",
        "query = {\"age\": {\"$gte\": 25, \"$lte\": 30}}\n",
        "result = simulated_collection.find(query)\n",
        "for doc in result:\n",
        "    print(doc)"
      ],
      "metadata": {
        "colab": {
          "base_uri": "https://localhost:8080/"
        },
        "id": "Z2oI_4mf7plm",
        "outputId": "e39ef321-8965-4e2d-d4e9-73b5b2b7563b"
      },
      "execution_count": 10,
      "outputs": [
        {
          "output_type": "stream",
          "name": "stdout",
          "text": [
            "{'name': 'Alice Johnson', 'age': 25, 'city': 'Los Angeles', '_id': ObjectId('64dbe2ba3c9edcf42ad4c74a')}\n",
            "{'name': 'Emily Brown', 'age': 28, 'city': 'San Francisco', '_id': ObjectId('64dbe2ba3c9edcf42ad4c74c')}\n",
            "{'name': 'Olivia Miller', 'age': 29, 'city': 'Seattle', '_id': ObjectId('64dbe2ba3c9edcf42ad4c750')}\n",
            "{'name': 'Daniel Anderson', 'age': 28, 'city': 'Miami', '_id': ObjectId('64dbe2ba3c9edcf42ad4c751')}\n",
            "{'name': 'Ava Martinez', 'age': 27, 'city': 'Phoenix', '_id': ObjectId('64dbe2ba3c9edcf42ad4c752')}\n",
            "{'name': 'William Hernandez', 'age': 26, 'city': 'Dallas', '_id': ObjectId('64dbe2ba3c9edcf42ad4c755')}\n",
            "{'name': 'Liam Wilson', 'age': 30, 'city': 'San Diego', '_id': ObjectId('64dbe2ba3c9edcf42ad4c756')}\n",
            "{'name': 'Mia Walker', 'age': 28, 'city': 'Philadelphia', '_id': ObjectId('64dbe2ba3c9edcf42ad4c759')}\n",
            "{'name': 'Alexander Hill', 'age': 29, 'city': 'Detroit', '_id': ObjectId('64dbe2ba3c9edcf42ad4c75a')}\n",
            "{'name': 'Abigail Adams', 'age': 27, 'city': 'Minneapolis', '_id': ObjectId('64dbe2ba3c9edcf42ad4c75b')}\n",
            "{'name': 'Sofia Nelson', 'age': 25, 'city': 'Austin', '_id': ObjectId('64dbe2ba3c9edcf42ad4c75d')}\n"
          ]
        }
      ]
    },
    {
      "cell_type": "code",
      "source": [
        "# Find documents in specific cities\n",
        "cities_to_find = [\"New York\", \"Los Angeles\", \"Chicago\"]\n",
        "query = {\"city\": {\"$in\": cities_to_find}}\n",
        "result = simulated_collection.find(query)\n",
        "for doc in result:\n",
        "    print(doc)"
      ],
      "metadata": {
        "colab": {
          "base_uri": "https://localhost:8080/"
        },
        "id": "ztKiWRBc7s9d",
        "outputId": "bb8dcf35-b11b-46af-a3ea-9d1d3dbc1bdf"
      },
      "execution_count": 11,
      "outputs": [
        {
          "output_type": "stream",
          "name": "stdout",
          "text": [
            "{'name': 'Alice Johnson', 'age': 25, 'city': 'Los Angeles', '_id': ObjectId('64dbe2ba3c9edcf42ad4c74a')}\n",
            "{'name': 'Bob Smith', 'age': 32, 'city': 'Chicago', '_id': ObjectId('64dbe2ba3c9edcf42ad4c74b')}\n",
            "{'name': 'Sophia Lee', 'age': 22, 'city': 'New York', '_id': ObjectId('64dbe2ba3c9edcf42ad4c74e')}\n"
          ]
        }
      ]
    },
    {
      "cell_type": "code",
      "source": [
        "# Update multiple documents at once\n",
        "query = {\"age\": {\"$gt\": 30}}\n",
        "new_values = {\"$set\": {\"status\": \"Senior\"}}\n",
        "updated_count = simulated_collection.update_many(query, new_values)\n",
        "print(f\"Updated {updated_count.modified_count} documents.\")"
      ],
      "metadata": {
        "colab": {
          "base_uri": "https://localhost:8080/"
        },
        "id": "q-72-ZOp7vSu",
        "outputId": "ff8ec9b2-a65f-4b4e-aa36-beb6dd12c2c7"
      },
      "execution_count": 12,
      "outputs": [
        {
          "output_type": "stream",
          "name": "stdout",
          "text": [
            "Updated 6 documents.\n"
          ]
        }
      ]
    },
    {
      "cell_type": "code",
      "source": [
        "# Delete documents where age is less than 25\n",
        "query = {\"age\": {\"$lt\": 25}}\n",
        "deleted_count = simulated_collection.delete_many(query)\n",
        "print(f\"Deleted {deleted_count.deleted_count} documents.\")"
      ],
      "metadata": {
        "colab": {
          "base_uri": "https://localhost:8080/"
        },
        "id": "qTd7mrQi77ga",
        "outputId": "25a7bb83-45de-4eee-90db-4b6a40685181"
      },
      "execution_count": 14,
      "outputs": [
        {
          "output_type": "stream",
          "name": "stdout",
          "text": [
            "Deleted 3 documents.\n"
          ]
        }
      ]
    },
    {
      "cell_type": "code",
      "source": [
        "# Count the number of documents in the collection\n",
        "doc_count = simulated_collection.count_documents({})\n",
        "print(\"Total documents:\", doc_count)"
      ],
      "metadata": {
        "colab": {
          "base_uri": "https://localhost:8080/"
        },
        "id": "tpD-ptaC7yMG",
        "outputId": "22f2dc27-fc07-4f1c-872f-c43d97727331"
      },
      "execution_count": 15,
      "outputs": [
        {
          "output_type": "stream",
          "name": "stdout",
          "text": [
            "Total documents: 17\n"
          ]
        }
      ]
    },
    {
      "cell_type": "code",
      "source": [
        "# Find the youngest person\n",
        "youngest_person = simulated_collection.find_one({}, sort=[(\"age\", pymongo.ASCENDING)])\n",
        "print(\"Youngest person:\", youngest_person)"
      ],
      "metadata": {
        "colab": {
          "base_uri": "https://localhost:8080/"
        },
        "id": "g8SWivla8CcV",
        "outputId": "72f41b5e-d673-4e10-e2b1-9ff1041f6748"
      },
      "execution_count": 18,
      "outputs": [
        {
          "output_type": "stream",
          "name": "stdout",
          "text": [
            "Youngest person: {'name': 'Alice Johnson', 'age': 25, 'city': 'Los Angeles', '_id': ObjectId('64dbe2ba3c9edcf42ad4c74a')}\n"
          ]
        }
      ]
    },
    {
      "cell_type": "code",
      "source": [
        "# Find the oldest person in a specific city\n",
        "oldest_person_city = \"San Francisco\"\n",
        "query = {\"city\": oldest_person_city}\n",
        "oldest_person = simulated_collection.find_one(query, sort=[(\"age\", pymongo.DESCENDING)])\n",
        "print(f\"Oldest person in {oldest_person_city}:\", oldest_person)"
      ],
      "metadata": {
        "colab": {
          "base_uri": "https://localhost:8080/"
        },
        "id": "Xd6QNvO68TVM",
        "outputId": "8e89f7e2-cde5-4bda-f038-61d4bbd6de4a"
      },
      "execution_count": 19,
      "outputs": [
        {
          "output_type": "stream",
          "name": "stdout",
          "text": [
            "Oldest person in San Francisco: {'name': 'Emily Brown', 'age': 28, 'city': 'San Francisco', '_id': ObjectId('64dbe2ba3c9edcf42ad4c74c')}\n"
          ]
        }
      ]
    },
    {
      "cell_type": "code",
      "source": [
        "# Find the average age of all people\n",
        "average_age_result = simulated_collection.aggregate([\n",
        "    {\"$group\": {\"_id\": None, \"average_age\": {\"$avg\": \"$age\"}}}\n",
        "])\n",
        "average_age = list(average_age_result)[0][\"average_age\"]\n",
        "print(\"Average age:\", round(average_age, 2))"
      ],
      "metadata": {
        "colab": {
          "base_uri": "https://localhost:8080/"
        },
        "id": "g87XaOZy8W1E",
        "outputId": "93bc8e4e-d307-47fd-b790-3fb685883061"
      },
      "execution_count": 23,
      "outputs": [
        {
          "output_type": "stream",
          "name": "stdout",
          "text": [
            "Average age: 29.82\n"
          ]
        }
      ]
    },
    {
      "cell_type": "code",
      "source": [
        "# Find the cities where people live, sorted alphabetically\n",
        "distinct_cities = simulated_collection.distinct(\"city\")\n",
        "distinct_cities.sort()\n",
        "print(\"Distinct cities:\", distinct_cities)"
      ],
      "metadata": {
        "colab": {
          "base_uri": "https://localhost:8080/"
        },
        "id": "ZL-RVaqM8iPj",
        "outputId": "3002ff79-5bff-4027-d59b-d02089f6c3b0"
      },
      "execution_count": 24,
      "outputs": [
        {
          "output_type": "stream",
          "name": "stdout",
          "text": [
            "Distinct cities: ['Austin', 'Boston', 'Chicago', 'Dallas', 'Denver', 'Detroit', 'Houston', 'Los Angeles', 'Miami', 'Minneapolis', 'Orlando', 'Philadelphia', 'Phoenix', 'Portland', 'San Diego', 'San Francisco', 'Seattle']\n"
          ]
        }
      ]
    }
  ]
}